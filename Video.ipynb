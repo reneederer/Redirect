{
 "cells": [
  {
   "cell_type": "code",
   "execution_count": 1,
   "metadata": {
    "dotnet_interactive": {
     "language": "csharp"
    },
    "polyglot_notebook": {
     "kernelName": "csharp"
    }
   },
   "outputs": [
    {
     "name": "stdout",
     "output_type": "stream",
     "text": [
      "Processing file: c:/users/rene/MITProbability\\L12.01 Lecture Overview.mp4\n",
      "Processing file: c:/users/rene/MITProbability\\L12.02 The Sum of Independent Discrete Random Variables.mp4\n",
      "Processing file: c:/users/rene/MITProbability\\L12.03 The Sum of Independent Continuous Random Variables.mp4\n",
      "Processing file: c:/users/rene/MITProbability\\L12.04 The Sum of Independent Normal Random Variables.mp4\n",
      "Processing file: c:/users/rene/MITProbability\\L12.05 Covariance.mp4\n",
      "Processing file: c:/users/rene/MITProbability\\L12.06 Covariance Properties.mp4\n",
      "Processing file: c:/users/rene/MITProbability\\L12.07 The Variance of the Sum of Random Variables.mp4\n",
      "Processing file: c:/users/rene/MITProbability\\L12.08 The Correlation Coefficient.mp4\n",
      "Processing file: c:/users/rene/MITProbability\\L12.09 Proof of Key Properties of the Correlation Coefficient.mp4\n",
      "Processing file: c:/users/rene/MITProbability\\L12.10 Interpreting the Correlation Coefficient.mp4\n",
      "Processing file: c:/users/rene/MITProbability\\L12.11 Correlations Matter 6-gN0dDHU-4.mp4\n"
     ]
    }
   ],
   "source": [
    "import os\n",
    "import re\n",
    "from functools import partial\n",
    "import subprocess\n",
    "\n",
    "# Define the directory containing the video files\n",
    "dir = \"c:/users/rene/MITProbability\"\n",
    "# Get all files from the directory and sort them\n",
    "allPaths = sorted(os.listdir(dir))\n",
    "\n",
    "# Define the path for the file list used by FFmpeg\n",
    "\n",
    "# Open the filelist.txt for writing\n",
    "for i in range(12, 13):  # Adjust the range as needed (1 to 2 is used for testing)\n",
    "    filelistPath = os.path.join(dir, f\"filelist{i}.txt\")\n",
    "    with open(filelistPath, \"w\") as f:\n",
    "        # Define the regex pattern to match files (case-insensitive)\n",
    "        pattern = rf\"(?i)^(L|S)0?{i}[^\\d].*?\\.mp4$\"\n",
    "        \n",
    "        # Filter allPaths to find files that match the pattern\n",
    "        paths = list(filter(partial(re.search, pattern), allPaths))\n",
    "\n",
    "        # Write each matching path to the filelist.txt, properly quoted\n",
    "        for path in paths:\n",
    "            full_path = os.path.join(dir, path)  # Get the full file path\n",
    "            # Print the path for debugging purposes (optional)\n",
    "            print(f\"Processing file: {full_path}\")\n",
    "            # Write the path in the required format for FFmpeg, replacing backslashes and adding quotes\n",
    "            f.write(f\"file '{full_path.replace('\\\\', '/')}'\\n\")\n",
    "    \n",
    "    # Run the FFmpeg command to concatenate the files listed in filelist.txt\n",
    "    subprocess.run([\"ffmpeg\", \"-f\", \"concat\", \"-safe\", \"0\", \"-i\", filelistPath, \"-c\", \"copy\", os.path.join(dir, f\"chapter{str(i).rjust(2, '0')}.mp4\")])\n"
   ]
  }
 ],
 "metadata": {
  "kernelspec": {
   "display_name": "Python 3",
   "language": "python",
   "name": "python3"
  },
  "language_info": {
   "codemirror_mode": {
    "name": "ipython",
    "version": 3
   },
   "file_extension": ".py",
   "mimetype": "text/x-python",
   "name": "python",
   "nbconvert_exporter": "python",
   "pygments_lexer": "ipython3",
   "version": "3.12.3"
  },
  "polyglot_notebook": {
   "kernelInfo": {
    "defaultKernelName": "csharp",
    "items": [
     {
      "aliases": [],
      "name": "csharp"
     }
    ]
   }
  }
 },
 "nbformat": 4,
 "nbformat_minor": 2
}
